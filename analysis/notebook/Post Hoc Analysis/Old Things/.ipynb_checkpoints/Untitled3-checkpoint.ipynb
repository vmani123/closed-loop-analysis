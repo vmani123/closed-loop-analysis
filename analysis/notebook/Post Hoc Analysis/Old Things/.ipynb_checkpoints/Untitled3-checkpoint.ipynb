{
 "cells": [
  {
   "cell_type": "code",
   "execution_count": 2,
   "metadata": {
    "scrolled": false
   },
   "outputs": [
    {
     "name": "stderr",
     "output_type": "stream",
     "text": [
      "<ipython-input-2-3b30dd34daa7>:5: SettingWithCopyWarning: \n",
      "A value is trying to be set on a copy of a slice from a DataFrame\n",
      "\n",
      "See the caveats in the documentation: https://pandas.pydata.org/pandas-docs/stable/user_guide/indexing.html#returning-a-view-versus-a-copy\n",
      "  df.sort_values(by='Date', inplace=True)\n",
      "<ipython-input-2-3b30dd34daa7>:11: SettingWithCopyWarning: \n",
      "A value is trying to be set on a copy of a slice from a DataFrame.\n",
      "Try using .loc[row_indexer,col_indexer] = value instead\n",
      "\n",
      "See the caveats in the documentation: https://pandas.pydata.org/pandas-docs/stable/user_guide/indexing.html#returning-a-view-versus-a-copy\n",
      "  df['Session Number'] = range(1, len(df) + 1)\n"
     ]
    }
   ],
   "source": [
    "import pandas as pd\n",
    "\n",
    "def rearrange_session_numbers(df):\n",
    "    # Sort DataFrame by date\n",
    "    df.sort_values(by='Date', inplace=True)\n",
    "\n",
    "    # Reset indices\n",
    "    df.reset_index(drop=True, inplace=True)\n",
    "\n",
    "    # Assign session numbers based on the sorted order\n",
    "    df['Session Number'] = range(1, len(df) + 1)\n",
    "\n",
    "    return df\n",
    "\n",
    "# Load the DataFrame from the original pickle file\n",
    "df = pd.read_pickle('K:/KayCei/Naturalistic.pkl')\n",
    "\n",
    "# Get unique combinations of 'Mouse', 'Genotype', 'Session Type', 'Selected Behavior', and 'Fiber Connection'\n",
    "unique_combinations = df[['Mouse', 'Genotype', 'Session Type', 'Selected Behavior', 'Fiber Connection']].drop_duplicates()\n",
    "\n",
    "# Iterate over each unique combination and rearrange session numbers\n",
    "for _, combination in unique_combinations.iterrows():\n",
    "    # Filter the DataFrame based on the current combination\n",
    "    filtered_df = df[(df['Mouse'] == combination['Mouse']) & \n",
    "                     (df['Genotype'] == combination['Genotype']) & \n",
    "                     (df['Session Type'] == combination['Session Type']) &\n",
    "                     (df['Selected Behavior'] == combination['Selected Behavior']) &\n",
    "                     (df['Fiber Connection'] == combination['Fiber Connection'])]\n",
    "\n",
    "    # Rearrange session numbers for the filtered DataFrame\n",
    "    rearrange_session_numbers(filtered_df)\n",
    "\n",
    "# Save the updated DataFrame as a new pickle file\n",
    "df.to_pickle('updated_naturalistic.pkl')\n",
    "\n",
    "# Reload the original DataFrame from the pickle file\n",
    "original_df = pd.read_pickle('K:/KayCei/Naturalistic.pkl')\n"
   ]
  },
  {
   "cell_type": "code",
   "execution_count": null,
   "metadata": {},
   "outputs": [],
   "source": []
  }
 ],
 "metadata": {
  "kernelspec": {
   "display_name": "Python 3",
   "language": "python",
   "name": "python3"
  },
  "language_info": {
   "codemirror_mode": {
    "name": "ipython",
    "version": 3
   },
   "file_extension": ".py",
   "mimetype": "text/x-python",
   "name": "python",
   "nbconvert_exporter": "python",
   "pygments_lexer": "ipython3",
   "version": "3.8.5"
  }
 },
 "nbformat": 4,
 "nbformat_minor": 4
}
