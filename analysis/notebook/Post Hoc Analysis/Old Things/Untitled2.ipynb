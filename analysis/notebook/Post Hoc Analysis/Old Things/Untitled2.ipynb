{
 "cells": [
  {
   "cell_type": "code",
   "execution_count": 4,
   "id": "35b254c4",
   "metadata": {},
   "outputs": [
    {
     "name": "stderr",
     "output_type": "stream",
     "text": [
      "2023-12-05 14:11:57.026 python[45840:910713] +[CATransaction synchronize] called within transaction\n",
      "2023-12-05 14:11:57.145 python[45840:910713] +[CATransaction synchronize] called within transaction\n",
      "2023-12-05 14:12:13.678 python[45840:910713] +[CATransaction synchronize] called within transaction\n",
      "2023-12-05 14:12:14.149 python[45840:910713] +[CATransaction synchronize] called within transaction\n",
      "2023-12-05 14:12:15.772 python[45840:910713] +[CATransaction synchronize] called within transaction\n",
      "2023-12-05 14:12:16.688 python[45840:910713] +[CATransaction synchronize] called within transaction\n",
      "2023-12-05 14:12:19.286 python[45840:910713] +[CATransaction synchronize] called within transaction\n",
      "2023-12-05 14:12:19.556 python[45840:910713] +[CATransaction synchronize] called within transaction\n",
      "2023-12-05 14:12:20.945 python[45840:910713] +[CATransaction synchronize] called within transaction\n"
     ]
    },
    {
     "name": "stdout",
     "output_type": "stream",
     "text": [
      "No CSV files selected.\n"
     ]
    }
   ],
   "source": [
    "import os\n",
    "import pandas as pd\n",
    "import matplotlib.pyplot as plt\n",
    "import tkinter as tk\n",
    "from tkinter import filedialog\n",
    "\n",
    "# Create a function to read and parse a CSV file\n",
    "def parse_csv(filename):\n",
    "    data = {}\n",
    "    animal_name = \"\"\n",
    "\n",
    "    with open(filename, newline='') as csvfile:\n",
    "        reader = pd.read_csv(csvfile, skiprows=1)  # Skip the first row (header)\n",
    "        for index, row in reader.iterrows():\n",
    "            if '-' in row[0]:\n",
    "                animal_name = row[0].split('-')[0].strip()\n",
    "                data[animal_name] = {}\n",
    "            else:\n",
    "                key = row[0]\n",
    "                value = int(row[1])\n",
    "                data[animal_name][key] = value\n",
    "\n",
    "    return data\n",
    "\n",
    "# Create a tkinter root window (it will not be shown)\n",
    "root = tk.Tk()\n",
    "root.withdraw()  # Hide the root window\n",
    "\n",
    "# Open a file dialog for selecting CSV files\n",
    "file_paths = filedialog.askopenfilenames(\n",
    "    title=\"Select CSV Files\",\n",
    "    filetypes=[(\"CSV Files\", \"*.csv\")]\n",
    ")\n",
    "\n",
    "if not file_paths:\n",
    "    print(\"No CSV files selected.\")\n",
    "else:\n",
    "    # Initialize lists to store data for plotting\n",
    "    keys = []\n",
    "    values = []\n",
    "    colors = []\n",
    "\n",
    "    # Loop through selected CSV files\n",
    "    for file_path in file_paths:\n",
    "        file_data = parse_csv(file_path)\n",
    "        for animal, data in file_data.items():\n",
    "            for key, value in data.items():\n",
    "                keys.append(key)\n",
    "                values.append(value)\n",
    "                colors.append(animal)\n",
    "\n",
    "    # Create a DataFrame from the parsed data\n",
    "    df = pd.DataFrame({'Keys': keys, 'Values': values, 'Animal': colors})\n",
    "\n",
    "    # Pivot the DataFrame to prepare for plotting\n",
    "    pivot_df = df.pivot(index='Keys', columns='Animal', values='Values')\n",
    "\n",
    "    # Plot the data as a bar plot with color-coded bars\n",
    "    ax = pivot_df.plot(kind='bar', figsize=(12, 6))\n",
    "    plt.title('Animal Data Comparison (Bout CSV)')\n",
    "    plt.xlabel('Keys')\n",
    "    plt.ylabel('Values')\n",
    "    plt.legend(title='Animal Names')\n",
    "\n",
    "    # Show the plot\n",
    "    plt.show()\n",
    "\n",
    "# Close the tkinter root window\n",
    "root.destroy()\n"
   ]
  },
  {
   "cell_type": "code",
   "execution_count": null,
   "id": "bf33caec",
   "metadata": {},
   "outputs": [],
   "source": []
  }
 ],
 "metadata": {
  "kernelspec": {
   "display_name": "Python 3 (ipykernel)",
   "language": "python",
   "name": "python3"
  },
  "language_info": {
   "codemirror_mode": {
    "name": "ipython",
    "version": 3
   },
   "file_extension": ".py",
   "mimetype": "text/x-python",
   "name": "python",
   "nbconvert_exporter": "python",
   "pygments_lexer": "ipython3",
   "version": "3.9.0"
  }
 },
 "nbformat": 4,
 "nbformat_minor": 5
}
