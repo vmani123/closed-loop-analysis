{
 "cells": [
  {
   "cell_type": "code",
   "execution_count": 2,
   "metadata": {},
   "outputs": [
    {
     "name": "stdout",
     "output_type": "stream",
     "text": [
      "29\n"
     ]
    }
   ],
   "source": [
    "y = ['torso groom', 'investigate type 0', 'unsure', 'wall rear type 1', 'rear',\n",
    "     'unsure', 'wall rear type 2', 'investigate type 1', 'investigate type 2', 'contra-itch',\n",
    "     'investigate type 3', 'sleep/scrunch type 1', 'sleep/scrunch type 2', 'wall rear type 3', 'contra-body groom',\n",
    "     'face groom type 1', 'dive/scrunch', 'head groom', 'ipsi-orient', 'ipsi-investigate',\n",
    "     'face groom type 2', 'ipsi-body groom', 'ipsi-itch type 1', 'ipsi-itch type 2', 'face groom type 3',\n",
    "     'paw groom', 'locomotion', 'contra-forepaw orient', 'contra-orient']\n",
    "\n",
    "print(len(y))  # This will print the length of the list 'y'\n"
   ]
  },
  {
   "cell_type": "code",
   "execution_count": null,
   "metadata": {},
   "outputs": [],
   "source": []
  }
 ],
 "metadata": {
  "kernelspec": {
   "display_name": "Python 3",
   "language": "python",
   "name": "python3"
  },
  "language_info": {
   "codemirror_mode": {
    "name": "ipython",
    "version": 3
   },
   "file_extension": ".py",
   "mimetype": "text/x-python",
   "name": "python",
   "nbconvert_exporter": "python",
   "pygments_lexer": "ipython3",
   "version": "3.8.5"
  }
 },
 "nbformat": 4,
 "nbformat_minor": 4
}
