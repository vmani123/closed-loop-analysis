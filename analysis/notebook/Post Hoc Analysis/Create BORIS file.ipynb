{
 "cells": [
  {
   "cell_type": "code",
   "execution_count": 1,
   "metadata": {},
   "outputs": [],
   "source": [
    "import joblib\n",
    "import os\n",
    "import pandas as pd\n",
    "from sklearn.ensemble import RandomForestClassifier\n",
    "import numpy as np\n",
    "from datetime import datetime\n",
    "import matplotlib.pyplot as plt\n",
    "import pickle\n",
    "import time\n",
    "from tkinter import *\n",
    "import tkinter as tk\n",
    "from tkinter import filedialog\n",
    "from tqdm import tqdm\n",
    "from tqdm import notebook\n",
    "import itertools\n",
    "import math\n",
    "import seaborn as sns\n",
    "import statistics \n",
    "from collections import OrderedDict\n",
    "import csv\n",
    "import re"
   ]
  },
  {
   "cell_type": "code",
   "execution_count": 2,
   "metadata": {},
   "outputs": [
    {
     "data": {
      "text/plain": [
       "('K:/KayCei/HDC/AH4-KO/121323-LIGHTS ON/predict_video_exp_16.npy',)"
      ]
     },
     "execution_count": 2,
     "metadata": {},
     "output_type": "execute_result"
    }
   ],
   "source": [
    "# Create Tk root\n",
    "root = Tk()\n",
    "# Hide the main window\n",
    "root.withdraw()\n",
    "root.call('wm', 'attributes', '.', '-topmost', True)\n",
    "infiles = filedialog.askopenfilename(multiple=True, title='load posthoc-predictions.npy')\n",
    "\n",
    "%gui tk\n",
    "\n",
    "infiles"
   ]
  },
  {
   "cell_type": "code",
   "execution_count": 3,
   "metadata": {},
   "outputs": [
    {
     "name": "stdout",
     "output_type": "stream",
     "text": [
      "['K:', 'KayCei', 'HDC', 'AH4-KO', '121323-LIGHTS ON', 'predict_video_exp_16.npy']\n",
      "-LIGHTS ON\n",
      "Directory Path: K:/KayCei/HDC/AH4-KO/121323-LIGHTS ON\n",
      "File Name: AH4-KO-LIGHTS ON\n"
     ]
    }
   ],
   "source": [
    "filepath = infiles[0]\n",
    "parts = filepath.split('/')\n",
    "print(parts)\n",
    "parts1= re.sub(r'\\d', '', parts[-2])\n",
    "print(parts1)\n",
    "directory_path = '/'.join(parts[:-1])  # Join all parts except the last two\n",
    "file_name = ''.join([parts[-3],parts1])  # Join the last two parts\n",
    "print(\"Directory Path:\", directory_path)\n",
    "print(\"File Name:\", file_name)\n"
   ]
  },
  {
   "cell_type": "code",
   "execution_count": 4,
   "metadata": {},
   "outputs": [],
   "source": [
    "Random_List = [] #creates a array known as random list \n",
    "for f in range(len(infiles)):\n",
    "    arr = np.load(infiles[f])\n",
    "    Random_List.extend(arr) \n",
    "#print(Random_List)"
   ]
  },
  {
   "cell_type": "code",
   "execution_count": 5,
   "metadata": {},
   "outputs": [
    {
     "name": "stdout",
     "output_type": "stream",
     "text": [
      "This video is 39201 deciseconds, which is 65.335 minutes, which is 235206 frames\n"
     ]
    }
   ],
   "source": [
    "duration_in_deciseconds = len(Random_List)\n",
    "duration_in_minutes = duration_in_deciseconds / 600\n",
    "duration_in_frames = duration_in_deciseconds * 6\n",
    "\n",
    "print('This video is', duration_in_deciseconds, 'deciseconds, which is', duration_in_minutes, 'minutes, which is', duration_in_frames, 'frames')\n",
    "#print(Random_List)"
   ]
  },
  {
   "cell_type": "code",
   "execution_count": 6,
   "metadata": {},
   "outputs": [],
   "source": [
    "BehaviorTime = []\n",
    "\n",
    "for index, value in enumerate(Random_List):\n",
    "    BehaviorTime.append((value, index))"
   ]
  },
  {
   "cell_type": "code",
   "execution_count": 7,
   "metadata": {},
   "outputs": [],
   "source": [
    "from collections import OrderedDict\n",
    "\n",
    "# Initialize the behavior_labels dictionary\n",
    "behavior_labels = OrderedDict({\n",
    "    0.0: \"torso_groom\",\n",
    "    1.0: \"investigate_0\",\n",
    "    2.0: \"unsure_0\",\n",
    "    3.0: \"wall_rear_0\",\n",
    "    4.0: \"rear_0\",\n",
    "    5.0: \"unsure_2\",\n",
    "    6.0: \"Rear\",\n",
    "    7.0: \"Investigate Type 1\",\n",
    "    8.0: \"Investigate Type 2\", \n",
    "    9.0: \"Contra-Itch\",\n",
    "    10.0: \"Investigate Type 3\",\n",
    "    11.0: \"sleep_scrunch_0\",\n",
    "    12.0: \"sleep_scrunch_1\",\n",
    "    13.0: \"wall_rear_1\",\n",
    "    14.0: \"Contra-Body Groom\",\n",
    "    15.0: \"Face Groom Type 1\",\n",
    "    16.0: \"Dive/Scrunch\",\n",
    "    17.0: \"Head Groom\",\n",
    "    18.0: \"Ipsi-Orient\",\n",
    "    19.0: \"insignificant\",\n",
    "    20.0: \"Face Groom Type 2\",\n",
    "    21.0: \"Ipsi-Body Groom\",\n",
    "    22.0: \"Ipsi-Itch Type 1\",\n",
    "    23.0: \"Ipsi-Itch Type 2\",\n",
    "    24.0: \"Face Groom Type 3\",\n",
    "    25.0: \"Paw-Groom\",\n",
    "    26.0: \"Locomotion\",\n",
    "    27.0: \"Contra Forepaw Orient\",\n",
    "    28.0: \"Contra-Orient\",\n",
    "})\n"
   ]
  },
  {
   "cell_type": "code",
   "execution_count": null,
   "metadata": {},
   "outputs": [],
   "source": [
    "# Create a list to store CSV rows\n",
    "csv_data = []\n",
    "\n",
    "# Iterate over the range of time points based on duration_in_deciseconds\n",
    "for time_point in range(duration_in_deciseconds + 1):\n",
    "    csv_row = [time_point]  # Initialize row with time point\n",
    "    for behavior_label in behavior_labels:\n",
    "        if (behavior_labels[behavior_label], time_point) in BehaviorTime:\n",
    "            csv_row.append(1)  # Behavior occurred at this time point\n",
    "        else:\n",
    "            csv_row.append(0)  # Behavior did not occur at this time point\n",
    "    csv_data.append(csv_row)\n",
    "\n",
    "# Write CSV data to a file\n",
    "csv_file_path = \"Z:/KayCei/behavior_data.csv\"\n",
    "with open(csv_file_path, \"w\", newline=\"\") as csv_file:\n",
    "    writer = csv.writer(csv_file)\n",
    "    # Write header row with behavior labels\n",
    "    header_row = [\"Time\"] + list(behavior_mapping.keys())\n",
    "    writer.writerow(header_row)\n",
    "    # Write data rows\n",
    "    writer.writerows(csv_data)\n",
    "\n",
    "print(\"CSV file created successfully:\", csv_file_path)"
   ]
  },
  {
   "cell_type": "code",
   "execution_count": null,
   "metadata": {},
   "outputs": [],
   "source": []
  }
 ],
 "metadata": {
  "kernelspec": {
   "display_name": "Python 3",
   "language": "python",
   "name": "python3"
  },
  "language_info": {
   "codemirror_mode": {
    "name": "ipython",
    "version": 3
   },
   "file_extension": ".py",
   "mimetype": "text/x-python",
   "name": "python",
   "nbconvert_exporter": "python",
   "pygments_lexer": "ipython3",
   "version": "3.8.5"
  }
 },
 "nbformat": 4,
 "nbformat_minor": 4
}
